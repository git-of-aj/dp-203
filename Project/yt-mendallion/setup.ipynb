{
 "cells": [
  {
   "cell_type": "code",
   "execution_count": 0,
   "metadata": {
    "application/vnd.databricks.v1+cell": {
     "cellMetadata": {
      "byteLimit": 2048000,
      "rowLimit": 10000
     },
     "inputWidgets": {},
     "nuid": "c69d07a7-733f-4d50-966d-a351d6fd4ac4",
     "showTitle": false,
     "title": ""
    }
   },
   "outputs": [
    {
     "output_type": "execute_result",
     "data": {
      "text/plain": [
       "True"
      ]
     },
     "execution_count": 1,
     "metadata": {},
     "output_type": "execute_result"
    }
   ],
   "source": [
    "configs = {\n",
    "  \"fs.azure.account.auth.type\": \"CustomAccessToken\",\n",
    "  \"fs.azure.account.custom.token.provider.class\": spark.conf.get(\"spark.databricks.passthrough.adls.gen2.tokenProviderClassName\")\n",
    "}\n",
    "\n",
    "# Optionally, you can add <directory-name> to the source URI of your mount point.\n",
    "dbutils.fs.mount(\n",
    "  source = \"abfss://bronze@mangupadhai93.dfs.core.windows.net/\",\n",
    "  mount_point = \"/mnt/bronze\",\n",
    "  extra_configs = configs)"
   ]
  },
  {
   "cell_type": "code",
   "execution_count": 0,
   "metadata": {
    "application/vnd.databricks.v1+cell": {
     "cellMetadata": {
      "byteLimit": 2048000,
      "rowLimit": 10000
     },
     "inputWidgets": {},
     "nuid": "728a4220-f47e-46a9-8b89-9dcc68be08ba",
     "showTitle": false,
     "title": ""
    }
   },
   "outputs": [
    {
     "output_type": "execute_result",
     "data": {
      "text/plain": [
       "[FileInfo(path='dbfs:/mnt/bronze/SalesLT/', name='SalesLT/', size=0, modificationTime=1718352389000)]"
      ]
     },
     "execution_count": 8,
     "metadata": {},
     "output_type": "execute_result"
    }
   ],
   "source": [
    "# Pre Req : Blob Data Contributor Should Be added to User !!!\n",
    "# Else : Operation failed: \"This request is not authorized to perform this operation using this permission.\", 403, GET\n",
    "dbutils.fs.ls(\"/mnt/bronze\")\n"
   ]
  },
  {
   "cell_type": "code",
   "execution_count": 0,
   "metadata": {
    "application/vnd.databricks.v1+cell": {
     "cellMetadata": {
      "byteLimit": 2048000,
      "rowLimit": 10000
     },
     "inputWidgets": {},
     "nuid": "2947b497-28ab-4d97-a9f9-99e4ccda297e",
     "showTitle": false,
     "title": ""
    }
   },
   "outputs": [
    {
     "output_type": "display_data",
     "data": {
      "text/html": [
       "<style scoped>\n",
       "  .table-result-container {\n",
       "    max-height: 300px;\n",
       "    overflow: auto;\n",
       "  }\n",
       "  table, th, td {\n",
       "    border: 1px solid black;\n",
       "    border-collapse: collapse;\n",
       "  }\n",
       "  th, td {\n",
       "    padding: 5px;\n",
       "  }\n",
       "  th {\n",
       "    text-align: left;\n",
       "  }\n",
       "</style><div class='table-result-container'><table class='table-result'><thead style='background-color: white'><tr><th>path</th><th>name</th><th>size</th><th>modificationTime</th></tr></thead><tbody><tr><td>dbfs:/mnt/bronze/SalesLT/Address/</td><td>Address/</td><td>0</td><td>1718352392000</td></tr><tr><td>dbfs:/mnt/bronze/SalesLT/Customer/</td><td>Customer/</td><td>0</td><td>1718352394000</td></tr><tr><td>dbfs:/mnt/bronze/SalesLT/CustomerAddress/</td><td>CustomerAddress/</td><td>0</td><td>1718352418000</td></tr><tr><td>dbfs:/mnt/bronze/SalesLT/Product/</td><td>Product/</td><td>0</td><td>1718352392000</td></tr><tr><td>dbfs:/mnt/bronze/SalesLT/ProductCategory/</td><td>ProductCategory/</td><td>0</td><td>1718352391000</td></tr><tr><td>dbfs:/mnt/bronze/SalesLT/ProductDescription/</td><td>ProductDescription/</td><td>0</td><td>1718352392000</td></tr><tr><td>dbfs:/mnt/bronze/SalesLT/ProductModel/</td><td>ProductModel/</td><td>0</td><td>1718352420000</td></tr><tr><td>dbfs:/mnt/bronze/SalesLT/ProductModelProductDescription/</td><td>ProductModelProductDescription/</td><td>0</td><td>1718352419000</td></tr><tr><td>dbfs:/mnt/bronze/SalesLT/SalesOrderDetail/</td><td>SalesOrderDetail/</td><td>0</td><td>1718352389000</td></tr><tr><td>dbfs:/mnt/bronze/SalesLT/SalesOrderHeader/</td><td>SalesOrderHeader/</td><td>0</td><td>1718352389000</td></tr></tbody></table></div>"
      ]
     },
     "metadata": {
      "application/vnd.databricks.v1+output": {
       "addedWidgets": {},
       "aggData": [],
       "aggError": "",
       "aggOverflow": false,
       "aggSchema": [],
       "aggSeriesLimitReached": false,
       "aggType": "",
       "arguments": {},
       "columnCustomDisplayInfos": {},
       "data": [
        [
         "dbfs:/mnt/bronze/SalesLT/Address/",
         "Address/",
         0,
         1718352392000
        ],
        [
         "dbfs:/mnt/bronze/SalesLT/Customer/",
         "Customer/",
         0,
         1718352394000
        ],
        [
         "dbfs:/mnt/bronze/SalesLT/CustomerAddress/",
         "CustomerAddress/",
         0,
         1718352418000
        ],
        [
         "dbfs:/mnt/bronze/SalesLT/Product/",
         "Product/",
         0,
         1718352392000
        ],
        [
         "dbfs:/mnt/bronze/SalesLT/ProductCategory/",
         "ProductCategory/",
         0,
         1718352391000
        ],
        [
         "dbfs:/mnt/bronze/SalesLT/ProductDescription/",
         "ProductDescription/",
         0,
         1718352392000
        ],
        [
         "dbfs:/mnt/bronze/SalesLT/ProductModel/",
         "ProductModel/",
         0,
         1718352420000
        ],
        [
         "dbfs:/mnt/bronze/SalesLT/ProductModelProductDescription/",
         "ProductModelProductDescription/",
         0,
         1718352419000
        ],
        [
         "dbfs:/mnt/bronze/SalesLT/SalesOrderDetail/",
         "SalesOrderDetail/",
         0,
         1718352389000
        ],
        [
         "dbfs:/mnt/bronze/SalesLT/SalesOrderHeader/",
         "SalesOrderHeader/",
         0,
         1718352389000
        ]
       ],
       "datasetInfos": [],
       "dbfsResultPath": null,
       "isJsonSchema": true,
       "metadata": {
        "isDbfsCommandResult": false
       },
       "overflow": false,
       "plotOptions": {
        "customPlotOptions": {},
        "displayType": "table",
        "pivotAggregation": null,
        "pivotColumns": null,
        "xColumns": null,
        "yColumns": null
       },
       "removedWidgets": [],
       "schema": [
        {
         "metadata": "{}",
         "name": "path",
         "type": "\"string\""
        },
        {
         "metadata": "{}",
         "name": "name",
         "type": "\"string\""
        },
        {
         "metadata": "{}",
         "name": "size",
         "type": "\"long\""
        },
        {
         "metadata": "{}",
         "name": "modificationTime",
         "type": "\"long\""
        }
       ],
       "type": "table"
      }
     },
     "output_type": "display_data"
    }
   ],
   "source": [
    "%fs\n",
    "ls /mnt/bronze/SalesLT"
   ]
  },
  {
   "cell_type": "code",
   "execution_count": 0,
   "metadata": {
    "application/vnd.databricks.v1+cell": {
     "cellMetadata": {
      "byteLimit": 2048000,
      "rowLimit": 10000
     },
     "inputWidgets": {},
     "nuid": "0da743bb-5034-4eee-8a03-f98770638ae4",
     "showTitle": false,
     "title": ""
    }
   },
   "outputs": [
    {
     "output_type": "execute_result",
     "data": {
      "text/plain": [
       "True"
      ]
     },
     "execution_count": 9,
     "metadata": {},
     "output_type": "execute_result"
    }
   ],
   "source": [
    "configs = {\n",
    "  \"fs.azure.account.auth.type\": \"CustomAccessToken\",\n",
    "  \"fs.azure.account.custom.token.provider.class\": spark.conf.get(\"spark.databricks.passthrough.adls.gen2.tokenProviderClassName\")\n",
    "}\n",
    "\n",
    "# Optionally, you can add <directory-name> to the source URI of your mount point.\n",
    "dbutils.fs.mount(\n",
    "  source = \"abfss://silver@mangupadhai93.dfs.core.windows.net/\",\n",
    "  mount_point = \"/mnt/silver\",\n",
    "  extra_configs = configs)"
   ]
  },
  {
   "cell_type": "code",
   "execution_count": 0,
   "metadata": {
    "application/vnd.databricks.v1+cell": {
     "cellMetadata": {
      "byteLimit": 2048000,
      "rowLimit": 10000
     },
     "inputWidgets": {},
     "nuid": "6a46d757-4c1d-400f-96ad-c8a08c49272d",
     "showTitle": false,
     "title": ""
    }
   },
   "outputs": [
    {
     "output_type": "execute_result",
     "data": {
      "text/plain": [
       "True"
      ]
     },
     "execution_count": 10,
     "metadata": {},
     "output_type": "execute_result"
    }
   ],
   "source": [
    "configs = {\n",
    "  \"fs.azure.account.auth.type\": \"CustomAccessToken\",\n",
    "  \"fs.azure.account.custom.token.provider.class\": spark.conf.get(\"spark.databricks.passthrough.adls.gen2.tokenProviderClassName\")\n",
    "}\n",
    "\n",
    "# Optionally, you can add <directory-name> to the source URI of your mount point.\n",
    "dbutils.fs.mount(\n",
    "  source = \"abfss://gold@mangupadhai93.dfs.core.windows.net/\",\n",
    "  mount_point = \"/mnt/gold\",\n",
    "  extra_configs = configs)"
   ]
  },
  {
   "cell_type": "code",
   "execution_count": 0,
   "metadata": {
    "application/vnd.databricks.v1+cell": {
     "cellMetadata": {},
     "inputWidgets": {},
     "nuid": "0bc27c7c-936c-4c57-a543-446169210c5c",
     "showTitle": false,
     "title": ""
    }
   },
   "outputs": [],
   "source": []
  }
 ],
 "metadata": {
  "application/vnd.databricks.v1+notebook": {
   "dashboards": [],
   "environmentMetadata": null,
   "language": "python",
   "notebookMetadata": {
    "mostRecentlyExecutedCommandWithImplicitDF": {
     "commandId": 2048112491935634,
     "dataframes": [
      "_sqldf"
     ]
    },
    "pythonIndentUnit": 4
   },
   "notebookName": "setup",
   "widgets": {}
  }
 },
 "nbformat": 4,
 "nbformat_minor": 0
}
